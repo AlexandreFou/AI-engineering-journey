{
  "nbformat": 4,
  "nbformat_minor": 0,
  "metadata": {
    "colab": {
      "provenance": [],
      "authorship_tag": "ABX9TyNS2t0D6lzJ+ydByxSOzcyr",
      "include_colab_link": true
    },
    "kernelspec": {
      "name": "python3",
      "display_name": "Python 3"
    },
    "language_info": {
      "name": "python"
    }
  },
  "cells": [
    {
      "cell_type": "markdown",
      "metadata": {
        "id": "view-in-github",
        "colab_type": "text"
      },
      "source": [
        "<a href=\"https://colab.research.google.com/github/AlexandreFou/AI-engineering-journey/blob/main/Day4.ipynb\" target=\"_parent\"><img src=\"https://colab.research.google.com/assets/colab-badge.svg\" alt=\"Open In Colab\"/></a>"
      ]
    },
    {
      "cell_type": "code",
      "execution_count": 1,
      "metadata": {
        "colab": {
          "base_uri": "https://localhost:8080/"
        },
        "id": "7EOJtNvvLJkR",
        "outputId": "93b01609-da2b-4b7f-869f-6d6fc457bc7c"
      },
      "outputs": [
        {
          "output_type": "stream",
          "name": "stdout",
          "text": [
            "Exactitude : 0.93\n"
          ]
        }
      ],
      "source": [
        "import numpy as np\n",
        "\n",
        "# 1. Simulation de données\n",
        "np.random.seed(42)\n",
        "n = 100\n",
        "\n",
        "# Classe 0 : centrée autour de (0, 0)\n",
        "X0 = np.random.normal(loc=0, scale=1, size=(n, 2))\n",
        "y0 = np.zeros(n)\n",
        "\n",
        "# Classe 1 : centrée autour de (2, 2)\n",
        "X1 = np.random.normal(loc=2, scale=1, size=(n, 2))\n",
        "y1 = np.ones(n)\n",
        "\n",
        "# Combiner\n",
        "X = np.vstack((X0, X1))\n",
        "y = np.hstack((y0, y1))\n",
        "\n",
        "# 2. Calcul des paramètres\n",
        "classes = np.unique(y)\n",
        "priors = {}\n",
        "means = {}\n",
        "vars_ = {}\n",
        "\n",
        "for c in classes:\n",
        "    X_c = X[y == c]\n",
        "    priors[c] = len(X_c) / len(X)\n",
        "    means[c] = X_c.mean(axis=0)\n",
        "    vars_[c] = X_c.var(axis=0)\n",
        "\n",
        "# 3. Fonction de densité gaussienne\n",
        "def gaussian_pdf(x, mean, var):\n",
        "    return (1 / np.sqrt(2 * np.pi * var)) * np.exp(- (x - mean)**2 / (2 * var))\n",
        "\n",
        "# 4. Fonction de prédiction\n",
        "def predict(X):\n",
        "    preds = []\n",
        "    for x in X:\n",
        "        posteriors = {}\n",
        "        for c in classes:\n",
        "            prior = np.log(priors[c])\n",
        "            likelihood = np.sum(np.log(gaussian_pdf(x, means[c], vars_[c])))\n",
        "            posteriors[c] = prior + likelihood\n",
        "        preds.append(max(posteriors, key=posteriors.get))\n",
        "    return np.array(preds)\n",
        "\n",
        "# 5. Évaluation\n",
        "y_pred = predict(X)\n",
        "accuracy = np.mean(y_pred == y)\n",
        "print(f\"Exactitude : {accuracy:.2f}\")\n"
      ]
    }
  ]
}