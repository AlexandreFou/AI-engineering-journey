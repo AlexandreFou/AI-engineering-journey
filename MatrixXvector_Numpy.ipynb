{
  "nbformat": 4,
  "nbformat_minor": 0,
  "metadata": {
    "colab": {
      "provenance": [],
      "authorship_tag": "ABX9TyO1p3+jqghFnfjSnvSQSrvq",
      "include_colab_link": true
    },
    "kernelspec": {
      "name": "python3",
      "display_name": "Python 3"
    },
    "language_info": {
      "name": "python"
    }
  },
  "cells": [
    {
      "cell_type": "markdown",
      "metadata": {
        "id": "view-in-github",
        "colab_type": "text"
      },
      "source": [
        "<a href=\"https://colab.research.google.com/github/AlexandreFou/AI-engineering-journey/blob/main/MatrixXvector_Numpy.ipynb\" target=\"_parent\"><img src=\"https://colab.research.google.com/assets/colab-badge.svg\" alt=\"Open In Colab\"/></a>"
      ]
    },
    {
      "cell_type": "code",
      "execution_count": 2,
      "metadata": {
        "colab": {
          "base_uri": "https://localhost:8080/"
        },
        "id": "G8nYe7-AqQ3z",
        "outputId": "52d600e6-9113-4db6-fa8e-6949ebb730ab"
      },
      "outputs": [
        {
          "output_type": "stream",
          "name": "stdout",
          "text": [
            "[14 17 11]\n"
          ]
        }
      ],
      "source": [
        "import numpy as np\n",
        "\n",
        "M = np.array([[1, 2, 4],\n",
        "              [3, 2, 3],\n",
        "              [5, 0, 1]])\n",
        "\n",
        "v = np.array([2, 4, 1])\n",
        "\n",
        "print(M @ v)\n",
        "\n"
      ]
    }
  ]
}